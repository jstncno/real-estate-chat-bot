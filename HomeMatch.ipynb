{
 "cells": [
  {
   "cell_type": "markdown",
   "id": "a108af04",
   "metadata": {},
   "source": [
    "# Project: Personalized Real Estate Agent\n",
    "\n",
    "## Rubric\n",
    "\n",
    "### Synthetic Data Generation\n",
    "\n",
    "- [x] Generating Real Estate Listings with an LLM\n",
    "    - The submission must demonstrate using a Large Language Model (LLM) to generate at least 10 diverse and realistic real estate listings containing facts about the real estate.\n",
    "\n",
    "### Semantic Search\n",
    "\n",
    "- [x] Creating a Vector Database and Storing Listings\n",
    "    - The project must demonstrate the creation of a vector database and successfully storing real estate listing embeddings within it. The database should effectively store and organize the embeddings generated from the LLM-created listings.\n",
    "\n",
    "- [x] Semantic Search of Listings Based on Buyer Preferences\n",
    "    - The application must include a functionality where listings are semantically searched based on given buyer preferences. The search should return listings that closely match the input preferences.\n",
    "\n",
    "### Augmented Response Generation\n",
    "\n",
    "- [x] Logic for Searching and Augmenting Listing Descriptions\n",
    "    - The project must demonstrate a logical flow where buyer preferences are used to search and then augment the description of real estate listings. The augmentation should personalize the listing without changing factual information.\n",
    "\n",
    "- [x] Use of LLM for Generating Personalized Descriptions\n",
    "    - The submission must utilize an LLM to generate personalized descriptions for the real estate listings based on buyer preferences. The descriptions should be unique, appealing, and tailored to the preferences provided."
   ]
  },
  {
   "cell_type": "markdown",
   "id": "f979dffe",
   "metadata": {},
   "source": [
    "# Step 1: Setup\n",
    "## Install dependencies"
   ]
  },
  {
   "cell_type": "code",
   "execution_count": null,
   "id": "928cb5ce",
   "metadata": {},
   "outputs": [],
   "source": [
    "%pip install -r requirements.txt"
   ]
  },
  {
   "cell_type": "markdown",
   "id": "4d453d9d",
   "metadata": {},
   "source": [
    "## Load environment variables\n",
    "`env` file has all required environment variables we don't want to explicity state in the code (including Vocareum OpenAI API Key)"
   ]
  },
  {
   "cell_type": "code",
   "execution_count": null,
   "id": "fe2b1080",
   "metadata": {},
   "outputs": [],
   "source": [
    "%load_ext dotenv\n",
    "%dotenv"
   ]
  },
  {
   "cell_type": "markdown",
   "id": "97b7d5f9",
   "metadata": {},
   "source": [
    "## Import dependencies"
   ]
  },
  {
   "cell_type": "code",
   "execution_count": null,
   "id": "ecfa4391",
   "metadata": {},
   "outputs": [],
   "source": [
    "import json\n",
    "import os\n",
    "\n",
    "from langchain.chains import ConversationChain\n",
    "from langchain.chat_models import ChatOpenAI\n",
    "from langchain.embeddings.openai import OpenAIEmbeddings\n",
    "from langchain.llms import OpenAI\n",
    "from langchain.memory import ConversationSummaryMemory, ChatMessageHistory\n",
    "from langchain.output_parsers import PydanticOutputParser\n",
    "from langchain.prompts import PromptTemplate\n",
    "from langchain.schema.document import Document\n",
    "from langchain.vectorstores import Chroma\n",
    "from pydantic import BaseModel, Field, NonNegativeInt"
   ]
  },
  {
   "cell_type": "markdown",
   "id": "c2a9c9ce",
   "metadata": {},
   "source": [
    "## Setup some constants"
   ]
  },
  {
   "cell_type": "code",
   "execution_count": null,
   "id": "31496166",
   "metadata": {},
   "outputs": [],
   "source": [
    "REAL_ESTATE_LISTINGS_JSON_FILE = './real_estate_listings.json'"
   ]
  },
  {
   "cell_type": "markdown",
   "id": "138c5c32",
   "metadata": {},
   "source": [
    "##  Initialize OpenAI Models"
   ]
  },
  {
   "cell_type": "code",
   "execution_count": null,
   "id": "a862f9fd",
   "metadata": {},
   "outputs": [],
   "source": [
    "# Completion model\n",
    "completion_model_name = \"gpt-3.5-turbo-instruct\"\n",
    "completion_temperature = 0.5\n",
    "completion_llm = OpenAI(\n",
    "    model_name=completion_model_name,\n",
    "    temperature=completion_temperature,\n",
    "    max_tokens=1000\n",
    ")\n",
    "\n",
    "# Chat model\n",
    "chat_model_name = \"gpt-3.5-turbo\"\n",
    "chat_temperature = 0.7\n",
    "chat_llm = OpenAI(\n",
    "    model_name=chat_model_name,\n",
    "    temperature=chat_temperature,\n",
    "    max_tokens=500\n",
    ")"
   ]
  },
  {
   "cell_type": "markdown",
   "id": "03ef0703",
   "metadata": {},
   "source": [
    "# Step 2: Generate Real Estate Listings\n",
    "Use a completion model to generate at least 10 real estate listings\n",
    "\n",
    "An example listing might be:\n",
    "\n",
    "```\n",
    "Neighborhood: Green Oaks\n",
    "Price: $800,000\n",
    "Bedrooms: 3\n",
    "Bathrooms: 2\n",
    "House Size: 2,000 sqft\n",
    "\n",
    "Description: Welcome to this eco-friendly oasis nestled in the heart of Green Oaks. This charming 3-bedroom, 2-bathroom home boasts energy-efficient features such as solar panels and a well-insulated structure. Natural light floods the living spaces, highlighting the beautiful hardwood floors and eco-conscious finishes. The open-concept kitchen and dining area lead to a spacious backyard with a vegetable garden, perfect for the eco-conscious family. Embrace sustainable living without compromising on style in this Green Oaks gem.\n",
    "\n",
    "Neighborhood Description: Green Oaks is a close-knit, environmentally-conscious community with access to organic grocery stores, community gardens, and bike paths. Take a stroll through the nearby Green Oaks Park or grab a cup of coffee at the cozy Green Bean Cafe. With easy access to public transportation and bike lanes, commuting is a breeze.\n",
    "```"
   ]
  },
  {
   "cell_type": "markdown",
   "id": "3b829ce2",
   "metadata": {},
   "source": [
    "## Define desired output schema"
   ]
  },
  {
   "cell_type": "code",
   "execution_count": null,
   "id": "10c22421",
   "metadata": {},
   "outputs": [],
   "source": [
    "class RealEstateListing(BaseModel):\n",
    "    neighborhood: str = Field(description=\"the neighborhood the home is in\")\n",
    "    price: NonNegativeInt = Field(description=\"the current home listing price\")\n",
    "    bedrooms: NonNegativeInt = Field(description=\"the number of bedrooms the home has\")\n",
    "    bathrooms: NonNegativeInt = Field(description=\"the number of bathrooms the home has\")\n",
    "    size: NonNegativeInt = Field(description=\"the size of the home in square feet\")\n",
    "    house_description: str = Field(description=\"a brief description of the home itself\")\n",
    "    neighborhood_description: str = Field(description=\"a brief description of the neighborhood the home is in\")\n",
    "\n",
    "# Create a parser to instruct LLM to output a response that conforms to our schema\n",
    "parser = PydanticOutputParser(pydantic_object=RealEstateListing)\n",
    "print(parser.get_format_instructions())"
   ]
  },
  {
   "cell_type": "markdown",
   "id": "2105a0af",
   "metadata": {},
   "source": [
    "## Create a prompt template for the LLM"
   ]
  },
  {
   "cell_type": "code",
   "execution_count": null,
   "id": "c494c44d",
   "metadata": {},
   "outputs": [],
   "source": [
    "prompt = PromptTemplate(\n",
    "    template=\"{instruction}\\n{format_instructions}\",\n",
    "    input_variables=[\"instruction\"],\n",
    "    partial_variables={\"format_instructions\": parser.get_format_instructions},\n",
    ")\n",
    "\n",
    "instruction = \"\"\"\n",
    "Generate a real estate listing that lists its price, the neighborhood, how many bedrooms and bathrooms, the size in\n",
    "square footage, and its house and neighborhood descriptions.\n",
    "\"\"\"\n",
    "\n",
    "query = prompt.format(instruction=instruction)\n",
    "query"
   ]
  },
  {
   "cell_type": "markdown",
   "id": "b5ef886f",
   "metadata": {},
   "source": [
    "## Generate real estate listings"
   ]
  },
  {
   "cell_type": "code",
   "execution_count": null,
   "id": "b9fa327b",
   "metadata": {},
   "outputs": [],
   "source": [
    "def generate_real_estate_listings(max_listings=10) -> list[dict]:\n",
    "    listings = []\n",
    "    for i in range(max_listings):\n",
    "        resp = completion_llm.predict(query)\n",
    "        data = json.loads(resp)\n",
    "        listings.append(data)\n",
    "    with open(REAL_ESTATE_LISTINGS_JSON_FILE, 'w') as f:\n",
    "        f.write(json.dumps(listings))\n",
    "    return listings\n",
    "\n",
    "\n",
    "def get_real_estate_listings(max_listings=10) -> list[dict]:\n",
    "    if os.path.exists(REAL_ESTATE_LISTINGS_JSON_FILE):\n",
    "        print(f'Loading real estate listings data from {REAL_ESTATE_LISTINGS_JSON_FILE}')\n",
    "        with open(REAL_ESTATE_LISTINGS_JSON_FILE, 'r') as f:\n",
    "            listings = json.loads(f.read())\n",
    "    else:\n",
    "        print('Generating real estate listings data from OpenAI')\n",
    "        listings = generate_real_estate_listings(max_listings)\n",
    "    return listings[:max_listings]"
   ]
  },
  {
   "cell_type": "code",
   "execution_count": null,
   "id": "99a437ed",
   "metadata": {},
   "outputs": [],
   "source": [
    "real_estate_listings = get_real_estate_listings()\n",
    "real_estate_listings"
   ]
  },
  {
   "cell_type": "markdown",
   "id": "5b6cc821",
   "metadata": {},
   "source": [
    "# Step 3: Store Listings in a Vector Database"
   ]
  },
  {
   "cell_type": "markdown",
   "id": "9c522970",
   "metadata": {},
   "source": [
    "First, convert JSON data into text data to be able to store into a vector database"
   ]
  },
  {
   "cell_type": "code",
   "execution_count": null,
   "id": "310a4b5a",
   "metadata": {},
   "outputs": [],
   "source": [
    "content_template = \"\"\"\n",
    "Neighborhood: {neighborhood}\n",
    "Price: ${price}\n",
    "Bedrooms: {bedrooms}\n",
    "Bathrooms: {bathrooms}\n",
    "House Size: {size} sqft\n",
    "\n",
    "Description: {house_description}\n",
    "\n",
    "Neighborhood Description: {neighborhood_description}\n",
    "\"\"\"\n",
    "docs = []\n",
    "for idx, listing in enumerate(real_estate_listings):\n",
    "  doc = Document(\n",
    "    page_content=content_template.format(**listing),\n",
    "    metadata=listing,\n",
    "    id=idx\n",
    "  )\n",
    "  docs.append(doc)\n"
   ]
  },
  {
   "cell_type": "code",
   "execution_count": null,
   "id": "66a86ac8",
   "metadata": {},
   "outputs": [],
   "source": [
    "# Get OpenAI embeddings\n",
    "embeddings = OpenAIEmbeddings()\n",
    "\n",
    "# Create vector db client\n",
    "db = Chroma.from_documents(documents=docs, embedding=embeddings)"
   ]
  },
  {
   "cell_type": "markdown",
   "id": "90089e5a",
   "metadata": {},
   "source": [
    "# Step 4: Build the User Preference Interface\n",
    "Collect buyer preferences, such as the number of bedrooms, bathrooms, location, and other specific requirements from a set of questions or telling the buyer to enter their preferences in natural language."
   ]
  },
  {
   "cell_type": "code",
   "execution_count": null,
   "id": "40eeb571",
   "metadata": {},
   "outputs": [],
   "source": [
    "questions = [\n",
    "    \"How big do you want your house to be?\",\n",
    "    \"What are 3 most important things for you in choosing this property?\",\n",
    "    \"Which amenities would you like?\",\n",
    "    \"Which transportation options are important to you?\",\n",
    "    \"How urban do you want your neighborhood to be?\",\n",
    "]\n",
    "answers = [\n",
    "    \"A comfortable three-bedroom house with a spacious kitchen and a cozy living room.\",\n",
    "    \"A quiet neighborhood, good local schools, and convenient shopping options.\",\n",
    "    \"A backyard for gardening, a two-car garage, and a modern, energy-efficient heating system.\",\n",
    "    \"Easy access to a reliable bus line, proximity to a major highway, and bike-friendly roads.\",\n",
    "    \"A balance between suburban tranquility and access to urban amenities like restaurants and theaters.\",\n",
    "]"
   ]
  },
  {
   "cell_type": "markdown",
   "id": "1e9cb73e",
   "metadata": {},
   "source": [
    "Create a real estate recommender personal for the chatbot and have it understand the user's home buying preferences"
   ]
  },
  {
   "cell_type": "code",
   "execution_count": null,
   "id": "ec0c7781",
   "metadata": {},
   "outputs": [],
   "source": [
    "# Create chat history\n",
    "chat_history = ChatMessageHistory()\n",
    "system_prompt = f\"\"\"\n",
    "You are AI that will recommend user a home listing based on their answers to\n",
    "personal questions. Ask user {len(questions)} questions.\n",
    "\"\"\"\n",
    "chat_history.add_user_message(system_prompt)\n",
    "for question, answer in zip(questions, answers):\n",
    "  chat_history.add_ai_message(question)\n",
    "  chat_history.add_user_message(answer)\n",
    "\n",
    "chat_history.messages"
   ]
  },
  {
   "cell_type": "code",
   "execution_count": null,
   "id": "f45b43d8",
   "metadata": {},
   "outputs": [],
   "source": [
    "# Summarize chat history to create a user persona\n",
    "user_persona_memory = ConversationSummaryMemory.from_messages(\n",
    "  llm=ChatOpenAI(model_name=chat_model_name, temperature=0),\n",
    "  chat_memory=chat_history,\n",
    "  return_messages=True,\n",
    "  memory_key='user_persona'\n",
    ")\n",
    "user_persona_memory.buffer"
   ]
  },
  {
   "cell_type": "markdown",
   "id": "52c5dc94",
   "metadata": {},
   "source": [
    "# Step 5: Search Based on Preferences"
   ]
  },
  {
   "cell_type": "code",
   "execution_count": null,
   "id": "88c798ab",
   "metadata": {},
   "outputs": [],
   "source": [
    "# Search vector database for top 5 docs based on\n",
    "# user persona built off preferences\n",
    "similar_docs = db.similarity_search(user_persona_memory.buffer, k=5)\n",
    "similar_docs"
   ]
  },
  {
   "cell_type": "markdown",
   "id": "c7f61bcc",
   "metadata": {},
   "source": [
    "# Step 6: Personalize Listing Descriptions"
   ]
  },
  {
   "cell_type": "markdown",
   "id": "2601e9a3",
   "metadata": {},
   "source": [
    "Build recommender prompt and conversation chain"
   ]
  },
  {
   "cell_type": "code",
   "execution_count": null,
   "id": "ef85f2aa",
   "metadata": {},
   "outputs": [],
   "source": [
    "recommender_template = \"\"\"\n",
    "The following is a friendly conversation between a human and an AI Real Estate\n",
    "Recommender. The AI asks the human a series of questions related to the human's\n",
    "home buying preferences and builds a persona derived from their answers to\n",
    "these questions.\n",
    "\n",
    "User persona build based on summary of conversation with human:\n",
    "{user_persona}\n",
    "\n",
    "Human: {input}\n",
    "AI:\n",
    "\"\"\"\n",
    "recommender_prompt = PromptTemplate(\n",
    "    input_variables=[\"user_persona\", \"input\"],\n",
    "    template=recommender_template,\n",
    ")\n",
    "recommender = ConversationChain(\n",
    "    llm=chat_llm,\n",
    "    memory=user_persona_memory,\n",
    "    prompt=recommender_prompt,\n",
    ")"
   ]
  },
  {
   "cell_type": "markdown",
   "id": "9d5f8ba1",
   "metadata": {},
   "source": [
    "For each real estate listing similar to the user's preferences, summarize\n",
    "it based on the user's persona"
   ]
  },
  {
   "cell_type": "code",
   "execution_count": null,
   "id": "7934fbfe",
   "metadata": {},
   "outputs": [],
   "source": [
    "summarization_template = \"\"\"\n",
    "RATING INSTRUCTIONS THAT MUST BE STRICTLY FOLLOWED:\n",
    "Please summarize the following real estate listing based on my own preferences.\n",
    "You should be very sensible to my personal preferences and should not be\n",
    "influenced by anything else.\n",
    "\n",
    "OUTPUT FORMAT:\n",
    "DO NOT add anything superflous such as \"Based on your preferences\".\n",
    "Simply summarize the listing.\n",
    "\n",
    "Listing:\n",
    "{listing}\n",
    "\"\"\"\n",
    "\n",
    "summarizations = []\n",
    "for doc in similar_docs:\n",
    "  listing = doc.page_content\n",
    "  summarization_instruction = summarization_template.format(listing=listing)\n",
    "  summary = recommender.predict(input=summarization_instruction)\n",
    "  summarizations.append(summary)"
   ]
  },
  {
   "cell_type": "markdown",
   "id": "f4e06da7",
   "metadata": {},
   "source": [
    "### Now, output a response to show to the user"
   ]
  },
  {
   "cell_type": "code",
   "execution_count": null,
   "id": "295cdbf9",
   "metadata": {},
   "outputs": [],
   "source": [
    "response_template = \"\"\"\n",
    "Neighborhood: {neighborhood}\n",
    "Price: ${price:,}\n",
    "Bedrooms: {bedrooms}\n",
    "Bathrooms: {bathrooms}\n",
    "House Size: {size} sqft\n",
    "\n",
    "{summary}\n",
    "\"\"\"\n",
    "\n",
    "# Hard code friendly start to response\n",
    "print('Based on your preferences, here are some listings I think you might like:')\n",
    "for listing, summary in zip(similar_docs, summarizations):\n",
    "  data = listing.metadata\n",
    "  response = response_template.format(\n",
    "    neighborhood=data['neighborhood'],\n",
    "    price=data['price'],\n",
    "    bedrooms=data['bedrooms'],\n",
    "    bathrooms=data['bathrooms'],\n",
    "    size=data['size'],\n",
    "    summary=summary\n",
    "  )\n",
    "  print(response)"
   ]
  }
 ],
 "metadata": {
  "kernelspec": {
   "display_name": "Python 3 (ipykernel)",
   "language": "python",
   "name": "python3"
  },
  "language_info": {
   "codemirror_mode": {
    "name": "ipython",
    "version": 3
   },
   "file_extension": ".py",
   "mimetype": "text/x-python",
   "name": "python",
   "nbconvert_exporter": "python",
   "pygments_lexer": "ipython3",
   "version": "3.9.6"
  }
 },
 "nbformat": 4,
 "nbformat_minor": 5
}
